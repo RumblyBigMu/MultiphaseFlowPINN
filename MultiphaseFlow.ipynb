{
 "cells": [
  {
   "cell_type": "code",
   "execution_count": null,
   "metadata": {},
   "outputs": [],
   "source": [
    "import torch\n",
    "from torch import nn\n",
    "import numpy as np\n",
    "from functools import partial\n",
    "import matplotlib.pyplot as plt\n"
   ]
  },
  {
   "attachments": {},
   "cell_type": "markdown",
   "metadata": {},
   "source": [
    "### **Константы флюида:** ###\n"
   ]
  },
  {
   "cell_type": "code",
   "execution_count": null,
   "metadata": {},
   "outputs": [],
   "source": [
    "p_0 = 117.3  # [p] = бар\n",
    "T = 82.2  # [T] = oC\n",
    "d = 0.1524\n"
   ]
  },
  {
   "cell_type": "code",
   "execution_count": null,
   "metadata": {},
   "outputs": [],
   "source": [
    "gamma_g = 0.75\n",
    "p_sep = 1.013  # [p_sep] = бар\n",
    "T_sep = 15.6  # [T_sep] = oC\n",
    "gamma_api = 33\n",
    "R_p = 178  # [R_p] = м^3 газа / м^3 нефти\n",
    "gamma_gd = 0.88\n",
    "Z = 0.853\n"
   ]
  },
  {
   "attachments": {},
   "cell_type": "markdown",
   "metadata": {},
   "source": [
    "### **Расчет параметров массобмена и физических свойств флюида в рамках модели нелетучей нефти:** ###\n"
   ]
  },
  {
   "attachments": {},
   "cell_type": "markdown",
   "metadata": {},
   "source": [
    "#### 1. _Отношение растворенного газа к нефти (по методу Васкеса и Беггза):_ ####\n"
   ]
  },
  {
   "cell_type": "code",
   "execution_count": null,
   "metadata": {},
   "outputs": [],
   "source": [
    "gamma_g100 = gamma_g * (1.0 + 5.912 * (10 ** (-5)) *\n",
    "                        gamma_api * (1.8 * T_sep + 32) * np.log10(p_sep / 7.9))\n"
   ]
  },
  {
   "attachments": {},
   "cell_type": "markdown",
   "metadata": {},
   "source": [
    "#### 2. _Корреляция Васкеса и Беггза для определения растворимости:_ ####\n"
   ]
  },
  {
   "cell_type": "code",
   "execution_count": null,
   "metadata": {},
   "outputs": [],
   "source": [
    "if gamma_api > 30:\n",
    "    C1_Rs = 0.0178\n",
    "    C2_Rs = 1.1870\n",
    "    C3_Rs = 23.931\n",
    "else:\n",
    "    C1_Rs = 0.0362\n",
    "    C2_Rs = 1.0937\n",
    "    C3_Rs = 25.7245\n",
    "\n",
    "def R_s(p):\n",
    "    return 0.178 * C1_Rs * gamma_g100 * (np.sign(14.51) * (np.abs(14.51)) ** (C2_Rs)) * (np.sign(p) * (np.abs(p)) ** (C2_Rs)) * np.exp(C3_Rs * gamma_api / (1.8 * T + 492))\n"
   ]
  },
  {
   "attachments": {},
   "cell_type": "markdown",
   "metadata": {},
   "source": [
    "#### 3. _Объемный коэффициент нефти (по методу Васкеса и Беггза):_ ####\n"
   ]
  },
  {
   "cell_type": "code",
   "execution_count": null,
   "metadata": {},
   "outputs": [],
   "source": [
    "if gamma_api > 30:\n",
    "    C1_Bo = 4.670 * (10 ** (-4))\n",
    "    C2_Bo = 1.100 * (10 ** (-5))\n",
    "    C3_Bo = 1.337 * (10 ** (-9))\n",
    "else:\n",
    "    C1_Bo = 4.677 * (10 ** (-4))\n",
    "    C2_Bo = 1.751 * (10 ** (-5))\n",
    "    C3_Bo = -1.811 * (10 ** (-8))\n",
    "\n",
    "\n",
    "def B_0(p):\n",
    "    return 1.0 + 5.618 * C1_Bo * R_s(p) + (1.8 * T - 28) * (gamma_api / gamma_g100) * (C2_Bo + 5.618 * C3_Bo * R_s(p))\n"
   ]
  },
  {
   "attachments": {},
   "cell_type": "markdown",
   "metadata": {},
   "source": [
    "#### 4. _Плотность нефти_ ####"
   ]
  },
  {
   "cell_type": "code",
   "execution_count": null,
   "metadata": {},
   "outputs": [],
   "source": [
    "def gamma_gf(p): return (R_p * gamma_g - R_s(p) * gamma_gd) / (R_p - R_s(p))\n",
    "\n",
    "\n",
    "gamma_0 = 141.5 / (gamma_api + 131.5)\n",
    "\n",
    "\n",
    "def ro_o(p): return 16.02 * (62.4 * gamma_0 +\n",
    "                             0.0764 * R_s(p) * gamma_gd) / B_0(p)\n"
   ]
  },
  {
   "attachments": {},
   "cell_type": "markdown",
   "metadata": {},
   "source": [
    "#### 5. _Псевдокритические давление и температура (по методу Стэндинга):_ ####\n"
   ]
  },
  {
   "cell_type": "code",
   "execution_count": null,
   "metadata": {},
   "outputs": [],
   "source": [
    "T_pc = (168 + 325 * gamma_g - 12.5 * (gamma_g ** 2)) / 1.8\n",
    "p_pc = 0.0689 * (677 + 15.0 * gamma_g - 37.5 * (gamma_g ** 2))\n"
   ]
  },
  {
   "attachments": {},
   "cell_type": "markdown",
   "metadata": {},
   "source": [
    "#### 6. _Коэффициент сжимаемости газа (по методу Стэндинга и Каца):_ ####\n"
   ]
  },
  {
   "cell_type": "code",
   "execution_count": null,
   "metadata": {},
   "outputs": [],
   "source": [
    "T_pr = (T + 273.2) / T_pc  # [T] = K\n",
    "def p_pr(p): return p / p_pc\n"
   ]
  },
  {
   "attachments": {},
   "cell_type": "markdown",
   "metadata": {},
   "source": [
    "#### 7. _Объемный коэффициент газа_ ####\n"
   ]
  },
  {
   "cell_type": "code",
   "execution_count": null,
   "metadata": {},
   "outputs": [],
   "source": [
    "def B_g(p): return 3.511 * (10 ** (-3)) * Z * (T + 273.2) / p  # [T] = K\n"
   ]
  },
  {
   "attachments": {},
   "cell_type": "markdown",
   "metadata": {},
   "source": [
    "#### 8. _Плотность газа_ ####"
   ]
  },
  {
   "cell_type": "code",
   "execution_count": null,
   "metadata": {},
   "outputs": [],
   "source": [
    "def ro_g(p): return 3.5 * (10 ** (-3)) * 0.75 * \\\n",
    "    (p * (10 ** 5)) / (Z * (T + 273.2))  # [p] = Па, [T] = K\n"
   ]
  },
  {
   "attachments": {},
   "cell_type": "markdown",
   "metadata": {},
   "source": [
    "### **Приведенные скорости: модель нелетучей нефти:** ###"
   ]
  },
  {
   "cell_type": "code",
   "execution_count": null,
   "metadata": {},
   "outputs": [],
   "source": [
    "q_o_st = 1590\n",
    "q_g_st =  283000"
   ]
  },
  {
   "cell_type": "code",
   "execution_count": null,
   "metadata": {},
   "outputs": [],
   "source": [
    "A_p = np.pi / 4 * (d ** 2)\n"
   ]
  },
  {
   "cell_type": "code",
   "execution_count": null,
   "metadata": {},
   "outputs": [],
   "source": [
    "def q_o(p): return q_o_st * B_0(p) / 86400\n",
    "def q_g(p): return (q_g_st - q_o_st * R_s(p)) * B_g(p) / 86400\n"
   ]
  },
  {
   "cell_type": "code",
   "execution_count": null,
   "metadata": {},
   "outputs": [],
   "source": [
    "def v_Sl(p): return q_o(p) / A_p\n",
    "def v_Sg(p): return q_g(p) / A_p\n",
    "def v_m(p): return v_Sl(p) + v_Sg(p)\n"
   ]
  },
  {
   "attachments": {},
   "cell_type": "markdown",
   "metadata": {},
   "source": [
    "### **Расчет вертикального градиента давления по методу Данса и Роса на основе данных многофазного потока**: ###"
   ]
  },
  {
   "cell_type": "code",
   "execution_count": null,
   "metadata": {},
   "outputs": [],
   "source": [
    "mu_o = 0.97 * (10 ** (-3))\n",
    "sigma_o = 8.41 * (10 ** (-3))\n",
    "eps = 18.288 * (10 ** (-6)) \n",
    "g = 9.8"
   ]
  },
  {
   "attachments": {},
   "cell_type": "markdown",
   "metadata": {},
   "source": [
    "*Для пузырькового режима потока:*"
   ]
  },
  {
   "cell_type": "code",
   "execution_count": null,
   "metadata": {},
   "outputs": [],
   "source": [
    "F1 = 1.2\n",
    "F2 = 0.24\n",
    "F3 = 1.3\n",
    "F4 = 26.5\n",
    "N_d = 143.8\n",
    "N_gv = 11.54\n",
    "N_Lv = 11.87\n",
    "f1 = 0.0175\n",
    "f2 = 1.0\n"
   ]
  },
  {
   "cell_type": "code",
   "execution_count": null,
   "metadata": {},
   "outputs": [],
   "source": [
    "F3_1 = F3 - F4 / N_d\n",
    "S = F1 + F2 * N_Lv + F3_1 * ((N_gv / (1 + N_Lv)) ** 2)\n",
    "\n",
    "# def v_s(p): return S / ((ro_o(p) / (g * sigma_o)) ** (0.25))\n",
    "def v_s(p): return S / (np.sign(ro_o(p) / (g * sigma_o)) * (np.abs((ro_o(p) / (g * sigma_o)))) ** (1/4))\n",
    "def H_L(p): return (v_s(p) - v_m(p) +\n",
    "                    np.sqrt((v_m(p) - v_s(p)) ** 2 + 4 * v_s(p) * v_Sl(p)))\n",
    "\n",
    "\n",
    "def ro_s(p): return ro_o(p) * H_L(p) + ro_g(p) * (1 - H_L(p))\n"
   ]
  },
  {
   "cell_type": "code",
   "execution_count": null,
   "metadata": {},
   "outputs": [],
   "source": [
    "def N_ReL(p): return ro_o(p) * v_Sl(p) * d / mu_o\n",
    "\n",
    "\n",
    "# def f(p): return f1 * f2 / (1 + f1 / 4 * np.sqrt(v_Sg(p) / (50 * v_Sl(p))))\n",
    "def f(p): return f1 * f2 / (1 + f1 / 4 * np.sign(v_Sg(p) / (50 * v_Sl(p)))\n",
    "                            * (np.abs(v_Sg(p) / (50 * v_Sl(p)))) ** (1/2))\n"
   ]
  },
  {
   "attachments": {},
   "cell_type": "markdown",
   "metadata": {},
   "source": [
    "#### **Численное решение ОДУ:** ####"
   ]
  },
  {
   "cell_type": "code",
   "execution_count": null,
   "metadata": {},
   "outputs": [],
   "source": [
    "from scipy.integrate import solve_ivp\n",
    "\n",
    "\n",
    "def friction(z, p):\n",
    "    return -(ro_s(p) + f(p) * ro_o(p) * v_Sl(p) * v_m(p) / (2 * d * g)) * 0.0000981"
   ]
  },
  {
   "cell_type": "code",
   "execution_count": null,
   "metadata": {},
   "outputs": [],
   "source": [
    "N = 100\n",
    "z_interval = [0, 10]\n",
    "z = torch.linspace(z_interval[0], z_interval[1],\n",
    "                   steps=N, requires_grad=True)\n",
    "z = z.reshape(z.shape[0], 1)\n",
    "sol = solve_ivp(friction, z_interval, y0=[p_0], t_eval=z.detach().numpy().reshape(-1), method='RK45')\n",
    "sol.y = sol.y.reshape(-1)"
   ]
  },
  {
   "cell_type": "code",
   "execution_count": null,
   "metadata": {},
   "outputs": [],
   "source": [
    "plt.plot(sol.t, sol.y)"
   ]
  },
  {
   "attachments": {},
   "cell_type": "markdown",
   "metadata": {},
   "source": [
    "### **PINN** ###"
   ]
  },
  {
   "cell_type": "code",
   "execution_count": null,
   "metadata": {},
   "outputs": [],
   "source": [
    "class Net(nn.Module):\n",
    "    \"\"\"\n",
    "    Класс для построения нейронной сети\n",
    "    \"\"\"\n",
    "\n",
    "    def __init__(self, num_hidden, size_hidden, act=nn.Tanh()):\n",
    "        \"\"\"\n",
    "        Архитектура нейронной сети\n",
    "\n",
    "        :param num_hidden: количество скрытых слоев\n",
    "        :param size_hidden: количество скрытых нейронов\n",
    "        :param act: функция активации\n",
    "        \"\"\"\n",
    "        super().__init__()\n",
    "\n",
    "        self.layer_in = nn.Linear(1, size_hidden)  # 1 входное значение\n",
    "\n",
    "        num_middle = num_hidden - 1\n",
    "        self.middle_layers = nn.ModuleList(\n",
    "            [nn.Linear(size_hidden, size_hidden) for _ in range(num_middle)])\n",
    "        self.act = act  # функция активации\n",
    "\n",
    "        self.layer_out = nn.Linear(size_hidden, 1)  # 1 выходное значение\n",
    "\n",
    "    def forward(self, x):\n",
    "        \"\"\"\n",
    "        Функция распространения\n",
    "\n",
    "        :param x: входное значение x\n",
    "        :return: выходное значение\n",
    "        \"\"\"\n",
    "        out = self.act(self.layer_in(x))\n",
    "        for layer in self.middle_layers:\n",
    "            out = self.act(layer(out))\n",
    "        return self.layer_out(out)\n"
   ]
  },
  {
   "cell_type": "code",
   "execution_count": null,
   "metadata": {},
   "outputs": [],
   "source": [
    "def F(nn, x):\n",
    "    \"\"\"\n",
    "    Значение приближенного решения NN\n",
    "\n",
    "    :param nn: экземпляр нейронной сети (NN)\n",
    "    :param x: значение  переменной x\n",
    "    :return: значение приближенного решения\n",
    "    \"\"\"\n",
    "    return nn(x)"
   ]
  },
  {
   "cell_type": "code",
   "execution_count": null,
   "metadata": {},
   "outputs": [],
   "source": [
    "def df(nn, x=None, order=1):\n",
    "    \"\"\"\n",
    "    Значение производной\n",
    "\n",
    "    :param nn: экземпляр нейронной сети (NN)\n",
    "    :param x: значение  переменной x\n",
    "    :param order: порядок производной\n",
    "    :return: значение прозводной\n",
    "    \"\"\"\n",
    "    df_value = F(nn, x)\n",
    "    for _ in range(order):\n",
    "        df_value = torch.autograd.grad(\n",
    "            df_value,\n",
    "            x,\n",
    "            grad_outputs=torch.ones_like(x),\n",
    "            create_graph=True,\n",
    "            retain_graph=True,\n",
    "        )[0]\n",
    "    return df_value"
   ]
  },
  {
   "cell_type": "code",
   "execution_count": null,
   "metadata": {},
   "outputs": [],
   "source": [
    "def compute_loss(nn, x=None, verbose=False):\n",
    "    \"\"\"\n",
    "    Функция потерь: L = L_de + L_bc\n",
    "\n",
    "    :param nn: экземпляр нейронной сети (NN)\n",
    "    :param x: значение  переменной x\n",
    "    :param verbose: параметр\n",
    "    :return: значение потерь\n",
    "    \"\"\"\n",
    "    p_current = F(nn, x).detach().numpy()\n",
    "    # Внутренние потери\n",
    "    friction = ro_s(p_current) + f(p_current) * ro_o(p_current) * v_Sl(p_current) * v_m(p_current) / (2 * d * g)\n",
    "    friction = torch.Tensor(friction)\n",
    "    friction.requires_grad = True\n",
    "    interior_loss = df(nn, x) + friction * 0.0000981\n",
    "    # Потери на начальном условии\n",
    "    boundary = torch.Tensor([0.])\n",
    "    boundary.requires_grad = True\n",
    "    boundary_loss = F(nn, boundary) - p_0\n",
    "\n",
    "    final_loss = interior_loss.pow(2).mean() + boundary_loss.pow(2).mean() \n",
    "    return final_loss"
   ]
  },
  {
   "cell_type": "code",
   "execution_count": null,
   "metadata": {},
   "outputs": [],
   "source": [
    "def train_model(nn, loss_function, learning_rate, max_epochs):\n",
    "    \"\"\"\n",
    "    Тренировка нейронной сети\n",
    "\n",
    "    :param nn: экземпляр нейронной сети (NN)\n",
    "    :param loss_function: функция потерь\n",
    "    :param learning_rate: скорость обучения\n",
    "    :param max_epochs: число эпох\n",
    "    :return: экземпляр сети, массив значений loss\n",
    "    \"\"\"\n",
    "    loss_evolution = []\n",
    "    # Оптимизация\n",
    "    optimizer = torch.optim.Adam(nn.parameters(), lr=learning_rate)\n",
    "    # Главный тренировочный цикл\n",
    "    for epoch in range(max_epochs):\n",
    "        loss = loss_function(nn)  # функция потерь\n",
    "        optimizer.zero_grad()  # обнуление (перезапуск) градиентов\n",
    "        loss.backward()  # обратное распространение ошибки\n",
    "        optimizer.step()  # шаг оптимизатора\n",
    "\n",
    "        if epoch % 1000 == 0:\n",
    "            print(f\"Epoch: {epoch} -> Loss: {float(loss)}\")\n",
    "\n",
    "        loss_evolution.append(loss.detach().numpy())\n",
    "    return nn, np.array(loss_evolution)"
   ]
  },
  {
   "cell_type": "code",
   "execution_count": null,
   "metadata": {},
   "outputs": [],
   "source": [
    "def plot_solution(net_solution, z_eval):\n",
    "    fig, ax = plt.subplots(figsize=(10, 5), nrows=1, ncols=2)\n",
    "    ax[0].plot(z_eval, net_solution, label=\"NN solution\")\n",
    "    ylim_min = min(net_solution) - 0.1\n",
    "    ylim_max = max(net_solution) + 0.1\n",
    "    ax[0].set_ylim([ylim_min, ylim_max])\n",
    "    ax[0].set(title=\"Pressure\", xlabel=\"Z\", ylabel=\"p\")\n",
    "    ax[0].legend()\n",
    "\n",
    "    ax[1].semilogy(loss_evolution)\n",
    "    ax[1].set(title=\"Loss evolution\", xlabel=\"Epoch\", ylabel=\"Loss\")\n"
   ]
  },
  {
   "cell_type": "code",
   "execution_count": null,
   "metadata": {},
   "outputs": [],
   "source": [
    "def error(analytic_solution, net_solution):\n",
    "    error = np.fabs(analytic_solution - net_solution)\n",
    "    print(f\"Error: {np.max(error)}\")\n",
    "    print(\"Outlet pressure:\")\n",
    "    print(\n",
    "        f\"**** NN: {net_solution[-1]} \\n**** Analytic: {analytic_solution[-1]} \\n**** Differnce: {np.fabs(net_solution[-1] - analytic_solution[-1])}\")\n"
   ]
  },
  {
   "cell_type": "code",
   "execution_count": null,
   "metadata": {},
   "outputs": [],
   "source": [
    "N = 100\n",
    "z_interval = [0, 10]\n",
    "num_hidden =5 # 2, 3, 5\n",
    "size_hidden = 10 # 5, 10, 20, 40\n",
    "lr = 0.05\n",
    "epochs = 10000 # 5000, 10000, 20000\n"
   ]
  },
  {
   "cell_type": "code",
   "execution_count": null,
   "metadata": {},
   "outputs": [],
   "source": [
    "z = torch.linspace(z_interval[0], z_interval[1],\n",
    "                   steps=N, requires_grad=True)\n",
    "z = z.reshape(z.shape[0], 1)\n",
    "\n",
    "# torch.manual_seed(10)\n",
    "\n",
    "# Инициализация нейронной сети\n",
    "net = Net(num_hidden, size_hidden, act=nn.Tanh())\n",
    "\n",
    "# net.apply(init_weights)\n",
    "\n",
    "print(\"Архитектура сети: \\n\", net, end='\\n\\n')\n",
    "# Тренировка нейронной сети\n",
    "loss_function = partial(compute_loss, x=z, verbose=True)\n",
    "net_trained, loss_evolution = train_model(\n",
    "    net, loss_function=loss_function, learning_rate=lr, max_epochs=epochs)\n",
    "\n",
    "# Решение, полученное тренировкой сети\n",
    "z_eval = torch.linspace(z_interval[0], z_interval[1], steps=N).reshape(-1, 1)\n",
    "net_solution = F(net_trained, z_eval)\n",
    "print()\n",
    "error(sol.y, net_solution.detach().numpy().reshape(-1))"
   ]
  },
  {
   "cell_type": "code",
   "execution_count": null,
   "metadata": {},
   "outputs": [],
   "source": [
    "plot_solution(net_solution.detach().numpy(), z_eval)"
   ]
  },
  {
   "attachments": {},
   "cell_type": "markdown",
   "metadata": {},
   "source": [
    "### **Оценка решения:** ###"
   ]
  },
  {
   "cell_type": "code",
   "execution_count": null,
   "metadata": {},
   "outputs": [],
   "source": [
    "error(net_solution.detach().numpy().reshape(-1), sol.y)"
   ]
  }
 ],
 "metadata": {
  "kernelspec": {
   "display_name": "Python 3",
   "language": "python",
   "name": "python3"
  },
  "language_info": {
   "codemirror_mode": {
    "name": "ipython",
    "version": 3
   },
   "file_extension": ".py",
   "mimetype": "text/x-python",
   "name": "python",
   "nbconvert_exporter": "python",
   "pygments_lexer": "ipython3",
   "version": "3.10.9"
  },
  "orig_nbformat": 4,
  "vscode": {
   "interpreter": {
    "hash": "acb0ab8a6b9043d95c32a5d830538445db23eca9595afe4baf34f5b87b85a1a6"
   }
  }
 },
 "nbformat": 4,
 "nbformat_minor": 2
}
